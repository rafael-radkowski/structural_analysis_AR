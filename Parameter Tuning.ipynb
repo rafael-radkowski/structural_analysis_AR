{
 "cells": [
  {
   "cell_type": "code",
   "execution_count": 10,
   "metadata": {},
   "outputs": [],
   "source": [
    "import os\n",
    "import numpy as np\n",
    "import cv2 as cv\n",
    "from matplotlib import pyplot as plt\n",
    "import math\n",
    "import ipywidgets as widgets\n",
    "from ipywidgets import Layout, IntSlider, Dropdown\n",
    "from IPython.display import display\n",
    "# import ipympl\n",
    "%matplotlib ipympl\n",
    "# plt.rcParams[\"figure.figsize\"] = [10,8]"
   ]
  },
  {
   "cell_type": "code",
   "execution_count": 2,
   "metadata": {},
   "outputs": [],
   "source": [
    "img_dir = '../town_pics/snaps2'\n",
    "test_pic_names = [os.path.join(img_dir, filename) for filename in os.listdir(img_dir)]\n",
    "# test_pic_names = ['0.png', '1.png', '2.png', '3.png']\n",
    "test_pics = []\n",
    "for pic_path in test_pic_names:\n",
    "    test_pics.append(cv.imread(pic_path))"
   ]
  },
  {
   "cell_type": "code",
   "execution_count": 3,
   "metadata": {},
   "outputs": [],
   "source": [
    "def show_bgr(img):\n",
    "    plt.imshow(img[:,:,::-1])"
   ]
  },
  {
   "cell_type": "code",
   "execution_count": 4,
   "metadata": {},
   "outputs": [],
   "source": [
    "min_length = 0.15"
   ]
  },
  {
   "cell_type": "code",
   "execution_count": 5,
   "metadata": {},
   "outputs": [],
   "source": [
    "def get_canny_thresholds(img, sigma=0.33):\n",
    "    med = np.mean(img)\n",
    "    lower = int(max(0, (1 - sigma) * med))\n",
    "    upper = int(min(255, (1 + sigma) * med))\n",
    "    return lower, upper"
   ]
  },
  {
   "cell_type": "code",
   "execution_count": 6,
   "metadata": {},
   "outputs": [],
   "source": [
    "# Convert to black and white, using Y channel in YUV space\n",
    "def to_bw(img):\n",
    "    yuv_img = cv.cvtColor(img, cv.COLOR_BGR2YUV)\n",
    "    return yuv_img[:,:,0]\n",
    "#     return img[:,:,2]\n",
    "\n",
    "def canny_edges(img, edge_threshold1):\n",
    "    edge_threshold2 = edge_threshold1 * 3\n",
    "    edges = cv.Canny(img, edge_threshold1, edge_threshold2)\n",
    "#     edges = cv.Canny(img, *get_canny_thresholds(img, edge_threshold1 / 100))\n",
    "    return edges"
   ]
  },
  {
   "cell_type": "code",
   "execution_count": 7,
   "metadata": {},
   "outputs": [],
   "source": [
    "def calc_center(line):\n",
    "    return np.array([(line[0] + line[2]) / 2,\n",
    "                     (line[1] + line[3]) / 2,\n",
    "                      1])\n",
    "\n",
    "def point_angle_to_line(origin, angle):\n",
    "    origin_homog = np.array([*origin, 1])\n",
    "    point2_homog = np.array([origin[0] + angle[0], origin[1] + angle[1], 1])\n",
    "    line = np.cross(origin_homog, point2_homog)\n",
    "    \n",
    "    norm_fac = np.linalg.norm(line[0:2])\n",
    "    if norm_fac != 0:\n",
    "        line = line /  norm_fac\n",
    "    return line\n",
    "\n",
    "def find_object(img, lines, line_origin, line_angle, angle_deviation, min_length):\n",
    "    line_angle = line_angle / np.linalg.norm(line_angle)\n",
    "    ref_line_eqn = point_angle_to_line(line_origin, line_angle)\n",
    "    min_length_px = min_length * img.shape[1]\n",
    "    min_length2_px = min_length_px ** 2\n",
    "#     angle_deviation = angle_deviation_deg * (math.pi / 180)\n",
    "    best_dist = float('inf')\n",
    "    best_line = np.zeros(4)\n",
    "    \n",
    "    for line in lines:\n",
    "        delta_x = line[2] - line[0]\n",
    "        delta_y = line[3] - line[1]\n",
    "        new_line_eqn = np.array([delta_y, -delta_x, line[0]*line[3] - line[2]*line[1]])\n",
    "        if new_line_eqn[2] != 0:\n",
    "            new_line_eqn = new_line_eqn = new_line_eqn[2]\n",
    "        line_vec = np.array([delta_x, delta_y])\n",
    "        line_vec = line_vec / math.sqrt(line_vec[0]**2 + line_vec[1]**2)\n",
    "        length2 = delta_x**2 + delta_y**2\n",
    "        if length2 >= min_length2_px:\n",
    "            theta = math.acos(line_vec.dot(line_angle))\n",
    "            if theta >= math.pi / 2:\n",
    "                theta -= math.pi\n",
    "            if theta <= -math.pi / 2:\n",
    "                theta += math.pi\n",
    "            if abs(theta) < angle_deviation:\n",
    "                line_center = calc_center(line)\n",
    "                line_dist = abs(ref_line_eqn.dot(line_center))\n",
    "                if line_dist < best_dist:\n",
    "                    best_dist = line_dist\n",
    "                    best_line = line\n",
    "    found_object = True\n",
    "    if best_dist == float('inf'):\n",
    "        found_object = False\n",
    "    return found_object, best_line\n",
    "\n",
    "def get_cropped(img, line, line_angle, mask_size):\n",
    "    mask_margin = img.shape[0] * 0.01225\n",
    "    mask_width = img.shape[0] * mask_size\n",
    "    \n",
    "    line_angle_vec = np.array([math.cos(angle), math.sin(angle)])\n",
    "    raw_line_vec = np.array([line[2] - line[0], line[3] - line[1]])\n",
    "    # Project reference line vector onto found (raw) line vector.\n",
    "    # The resulting vector points along the found line, but in the direction of the reference vector.\n",
    "    projected_vec = raw_line_vec.dot(line_angle_vec) * raw_line_vec\n",
    "    projected_vec = projected_vec / np.linalg.norm(projected_vec)\n",
    "    found_line_origin = np.array([line[0], line[1]])\n",
    "    \n",
    "    # Rotate line angle 90 degrees clockwise\n",
    "    mask_direction = np.array([-projected_vec[1], projected_vec[0]])\n",
    "    mask_line1_origin = found_line_origin - mask_direction * mask_margin;\n",
    "    mask_line2_origin = found_line_origin + mask_direction * (mask_margin + mask_width)\n",
    "    \n",
    "    line1_endpoint1 = mask_line1_origin - 10000 * projected_vec\n",
    "    line1_endpoint2 = mask_line1_origin + 10000 * projected_vec\n",
    "    line2_endpoint1 = mask_line2_origin - 10000 * projected_vec\n",
    "    line2_endpoint2 = mask_line2_origin + 10000 * projected_vec\n",
    "    _, line1_endpoint1, line1_endpoint2 = cv.clipLine((0, 0, img.shape[1], img.shape[0]),\n",
    "                                                      tuple(line1_endpoint1.astype(np.int32)),\n",
    "                                                      tuple(line1_endpoint2.astype(np.int32)))\n",
    "    _, line2_endpoint1, line2_endpoint2 = cv.clipLine((0, 0, img.shape[1], img.shape[0]),\n",
    "                                                      tuple(line2_endpoint1.astype(np.int32)),\n",
    "                                                      tuple(line2_endpoint2.astype(np.int32)))\n",
    "    \n",
    "    xs, ys = zip(*[line1_endpoint1, line1_endpoint2, line2_endpoint1, line2_endpoint2])\n",
    "    x_range = [min(xs), max(xs)]\n",
    "    y_range = [min(ys), max(ys)]\n",
    "    # If either line1 or line2 don't intersect the window, then clipLineCV() will not clip the lines,\n",
    "    # and the region will be outside the image size, so limit it here\n",
    "    x_range[0] = max(0, x_range[0])\n",
    "    x_range[1] = min(img.shape[1], x_range[1])\n",
    "    y_range[0] = max(0, y_range[0])\n",
    "    y_range[1] = min(img.shape[0], y_range[1])\n",
    "    cropped_img = img[y_range[0]:y_range[1],x_range[0]:x_range[1]].copy()\n",
    "    \n",
    "    # The line endpoints will definitely be part of the triangle\n",
    "    poly1_pts = [line1_endpoint1, line1_endpoint2]\n",
    "    poly2_pts = [line2_endpoint1, line2_endpoint2]\n",
    "    # Finding the last point of the triangle remains\n",
    "    corners = [(x_range[0], y_range[0]),\n",
    "               (x_range[0], y_range[1]),\n",
    "               (x_range[1], y_range[0]),\n",
    "               (x_range[1], y_range[1])]\n",
    "    line1_normal = -mask_direction\n",
    "    line2_normal = mask_direction\n",
    "    line1_eqn = -point_angle_to_line(line1_endpoint1, projected_vec)\n",
    "    line2_eqn = point_angle_to_line(line2_endpoint1, projected_vec)\n",
    "    \n",
    "    # Finds the point furthest from a line (largest signed distance)\n",
    "    def furthest_pt(search_pts, line_eqn):\n",
    "        furthest_dist = -float('inf')\n",
    "        best_pt = search_pts[0]\n",
    "        for pt in search_pts:\n",
    "            dist = line_eqn.dot([pt[0], pt[1], 1])\n",
    "            if dist >= 0 and dist > furthest_dist:\n",
    "                best_pt = pt\n",
    "                furthest_dist = dist\n",
    "        return best_pt\n",
    "    poly1_pts.append(furthest_pt(corners, line1_eqn))\n",
    "    poly2_pts.append(furthest_pt(corners, line2_eqn))\n",
    "    \n",
    "    def crop_pts(pts):\n",
    "        return [(pt[0] - x_range[0], pt[1] - y_range[0]) for pt in pts]\n",
    "    poly1_pts = crop_pts(poly1_pts)\n",
    "    poly2_pts = crop_pts(poly2_pts)\n",
    "    \n",
    "    # Draw the mask\n",
    "    cv.fillPoly(cropped_img, np.array([poly1_pts, poly2_pts]), (0, 0, 0))\n",
    "    \n",
    "    return cropped_img"
   ]
  },
  {
   "cell_type": "code",
   "execution_count": 8,
   "metadata": {},
   "outputs": [],
   "source": [
    "# Make UI Elements\n",
    "img_dropdown = Dropdown(options=test_pic_names,\n",
    "                        value=test_pic_names[0],\n",
    "                        description='Image')\n",
    "\n",
    "edge_thresh_slider = IntSlider(min=0, max=255, value=130,\n",
    "                               continuous_update=False,\n",
    "                               description='Canny Edge Filtering Threshold 1',\n",
    "                               style={'description_width': 'initial'},\n",
    "                               layout=Layout(width='6in'))\n",
    "\n",
    "hough_thresh_slider = IntSlider(min=0, max=800, value=100,\n",
    "                                continuous_update=False,\n",
    "                                description='Hough accumulator threshold',\n",
    "                                style={'description_width': 'initial'},\n",
    "                                layout=Layout(width='6in'))\n",
    "\n",
    "hough_thresh_slider = IntSlider(min=0, max=255, value=100,\n",
    "                                continuous_update=False,\n",
    "                                description='Hough accumulator threshold',\n",
    "                                style={'description_width': 'initial'},\n",
    "                                layout=Layout(width='6in'))\n",
    "\n",
    "hough_line_len_slider = IntSlider(min=0, max=400, value=50,\n",
    "                                continuous_update=False,\n",
    "                                description='Hough minimum line length',\n",
    "                                style={'description_width': 'initial'},\n",
    "                                layout=Layout(width='6in'))\n",
    "\n",
    "hough_line_gap_slider = IntSlider(min=0, max=500, value=300,\n",
    "                                continuous_update=False,\n",
    "                                description='Hough maximum line gap',\n",
    "                                style={'description_width': 'initial'},\n",
    "                                layout=Layout(width='6in'))\n",
    "\n",
    "# vec_out_widget = widgets.Output()\n",
    "angle_slider = widgets.FloatSlider(value=270, min=0, max=360, step=1)\n",
    "origin_x_box = widgets.IntText(description='Origin x:', layout=Layout(width='70%'))\n",
    "origin_y_box = widgets.IntText(description='Origin y:', layout=Layout(width='70%'))\n",
    "vec_box = widgets.HBox([\n",
    "        widgets.VBox([widgets.Label(\"Vector origin\"), origin_x_box, origin_y_box]),\n",
    "        widgets.VBox([widgets.Label(\"Line angle\"), angle_slider])])\n",
    "\n",
    "min_length_slider = widgets.FloatSlider(value=0.13, min=0, max=1, step=0.01,\n",
    "                                        description='Minimum line length',\n",
    "                                        style={'description_width': 'initial'},\n",
    "                                        layout=Layout(width='6in'))\n",
    "\n",
    "angle_thresh_slider = widgets.FloatSlider(value=15, min=0, max=90, step=1,\n",
    "                                          description='Angle threshold (deg)',\n",
    "                                          style={'description_width': 'initial'},\n",
    "                                          layout=Layout(width='6in'))\n",
    "\n",
    "mask_size_slider = widgets.FloatSlider(value=0.5, min=0, max=1, step=0.01,\n",
    "                                       continuous_update=False,\n",
    "                                       description='Mask size proportion',\n",
    "                                       style={'description_width': 'initial'},\n",
    "                                       layout=Layout(width='6in'))"
   ]
  },
  {
   "cell_type": "code",
   "execution_count": 16,
   "metadata": {},
   "outputs": [
    {
     "data": {
      "application/vnd.jupyter.widget-view+json": {
       "model_id": "d45734808aea49bd82b39cf6df3d33aa",
       "version_major": 2,
       "version_minor": 0
      },
      "text/plain": [
       "Dropdown(description='Image', options=('../town_pics/snaps2/0.png', '../town_pics/snaps2/1.png', '../town_pics…"
      ]
     },
     "metadata": {},
     "output_type": "display_data"
    },
    {
     "data": {
      "application/vnd.jupyter.widget-view+json": {
       "model_id": "c76f703ea9004ddab6c2208c7a5fddc4",
       "version_major": 2,
       "version_minor": 0
      },
      "text/plain": [
       "IntSlider(value=130, continuous_update=False, description='Canny Edge Filtering Threshold 1', layout=Layout(wi…"
      ]
     },
     "metadata": {},
     "output_type": "display_data"
    },
    {
     "data": {
      "application/vnd.jupyter.widget-view+json": {
       "model_id": "49f86e4a13cf4cb68efbcf0e7090a728",
       "version_major": 2,
       "version_minor": 0
      },
      "text/plain": [
       "IntSlider(value=100, continuous_update=False, description='Hough accumulator threshold', layout=Layout(width='…"
      ]
     },
     "metadata": {},
     "output_type": "display_data"
    },
    {
     "data": {
      "application/vnd.jupyter.widget-view+json": {
       "model_id": "259c976c2b1b4dca859f675bb256e584",
       "version_major": 2,
       "version_minor": 0
      },
      "text/plain": [
       "IntSlider(value=50, continuous_update=False, description='Hough minimum line length', layout=Layout(width='6in…"
      ]
     },
     "metadata": {},
     "output_type": "display_data"
    },
    {
     "data": {
      "application/vnd.jupyter.widget-view+json": {
       "model_id": "83eebf4fffb1429a870801bf27240af5",
       "version_major": 2,
       "version_minor": 0
      },
      "text/plain": [
       "IntSlider(value=300, continuous_update=False, description='Hough maximum line gap', layout=Layout(width='6in')…"
      ]
     },
     "metadata": {},
     "output_type": "display_data"
    },
    {
     "data": {
      "application/vnd.jupyter.widget-view+json": {
       "model_id": "e3e4f5d4d35143be9235003daa06bfcc",
       "version_major": 2,
       "version_minor": 0
      },
      "text/plain": [
       "FloatSlider(value=0.15, description='Minimum line length', layout=Layout(width='6in'), max=1.0, step=0.01, sty…"
      ]
     },
     "metadata": {},
     "output_type": "display_data"
    },
    {
     "data": {
      "application/vnd.jupyter.widget-view+json": {
       "model_id": "82aa90f8703842b6a06240f7ef292b56",
       "version_major": 2,
       "version_minor": 0
      },
      "text/plain": [
       "FloatSlider(value=15.0, description='Angle threshold (deg)', layout=Layout(width='6in'), max=90.0, step=1.0, s…"
      ]
     },
     "metadata": {},
     "output_type": "display_data"
    },
    {
     "data": {
      "application/vnd.jupyter.widget-view+json": {
       "model_id": "b6422171224143b28a0b0899e7dc841f",
       "version_major": 2,
       "version_minor": 0
      },
      "text/plain": [
       "FloatSlider(value=0.5, continuous_update=False, description='Mask size proportion', layout=Layout(width='6in')…"
      ]
     },
     "metadata": {},
     "output_type": "display_data"
    },
    {
     "data": {
      "application/vnd.jupyter.widget-view+json": {
       "model_id": "39d24ca87fe94d138410477280d69d75",
       "version_major": 2,
       "version_minor": 0
      },
      "text/plain": [
       "HBox(children=(VBox(children=(Label(value='Vector origin'), IntText(value=0, description='Origin x:', layout=L…"
      ]
     },
     "metadata": {},
     "output_type": "display_data"
    },
    {
     "data": {
      "application/vnd.jupyter.widget-view+json": {
       "model_id": "a1c5b4292d474a658dae7ac9e903356e",
       "version_major": 2,
       "version_minor": 0
      },
      "text/plain": [
       "FigureCanvasNbAgg()"
      ]
     },
     "metadata": {},
     "output_type": "display_data"
    }
   ],
   "source": [
    "color_img = None\n",
    "color_copy = None\n",
    "canny_img = None\n",
    "bw_img = None\n",
    "edge_threshold = None\n",
    "hough_threshold = None\n",
    "hough_min_line_length = None\n",
    "hough_max_line_gap = None\n",
    "lines = None\n",
    "vec_origin = None\n",
    "min_length = None\n",
    "angle_thresh = None\n",
    "angle = None\n",
    "mask_size = None\n",
    "cropped = None\n",
    "\n",
    "def set_img(img_name):\n",
    "    global color_img, bw_img\n",
    "    color_img = test_pics[test_pic_names.index(img_name)]\n",
    "    bw_img = to_bw(color_img)\n",
    "    \n",
    "def find_edges():\n",
    "    global canny_img\n",
    "    blurred = cv.blur(bw_img, (3,3))\n",
    "    canny_img = canny_edges(blurred, edge_threshold)\n",
    "    edge_img.set_data(canny_img)\n",
    "    update_hough_lines()\n",
    "    \n",
    "def update_hough_lines():\n",
    "    # image, rho, theta, threshold, lines?, minLineLength, maxLineGap\n",
    "    global lines\n",
    "    lines = cv.HoughLinesP(canny_img, 1, 1 * math.pi / 180,\n",
    "                           threshold=hough_threshold,\n",
    "                           minLineLength=hough_min_line_length,\n",
    "                           maxLineGap=hough_max_line_gap)\n",
    "#     lines = cv.HoughLinesP(blurred, 1, 1 * math.pi / 180, threshold=100, minLineLength=50, maxLineGap=300)\n",
    "    if lines is not None:\n",
    "        lines = next(zip(*lines))\n",
    "    else:\n",
    "        lines = []\n",
    "    find_mask()\n",
    "\n",
    "def find_mask():\n",
    "    color_copy = color_img.copy()\n",
    "    if lines is not None:\n",
    "        for line in lines:\n",
    "            cv.line(color_copy, (line[0], line[1]), (line[2], line[3]), (0, 0, 255), 10)\n",
    "\n",
    "    vector = np.array([math.cos(angle), math.sin(angle)])\n",
    "    found, line = find_object(color_img, lines, vec_origin, vector, angle_thresh, min_length)\n",
    "    if found:\n",
    "        cv.line(color_copy, (line[0], line[1]), (line[2], line[3]), (0, 255, 0), 20)\n",
    "        crop_mask(color_img, line)\n",
    "    lines_img.set_data(color_copy[:,:,::-1])\n",
    "    fig.canvas.draw()\n",
    "    \n",
    "def crop_mask(img, line):\n",
    "    global cropped\n",
    "    cropped = get_cropped(img, line, angle, mask_size)\n",
    "    axes[1][1].clear()\n",
    "    axes[1][1].imshow(cropped[:,:,::-1])\n",
    "\n",
    "# Callbacks\n",
    "def img_changed(change):\n",
    "    set_img(change.new)\n",
    "    find_edges()\n",
    "\n",
    "def edge_slider_cb(change):\n",
    "    global edge_threshold\n",
    "    edge_threshold = change.new\n",
    "    find_edges()\n",
    "\n",
    "def origin_changed(_=None):\n",
    "    global vec_origin\n",
    "    vec_origin = np.array([origin_x_box.value, origin_y_box.value])\n",
    "    find_mask()\n",
    "    \n",
    "def angle_changed(_=None):\n",
    "    global angle\n",
    "    global angle_thresh\n",
    "    angle = math.pi * angle_slider.value / 180\n",
    "    angle_thresh = math.pi * angle_thresh_slider.value / 180\n",
    "    # redraw vector\n",
    "#     axes[0][1].clear()\n",
    "#     axes[0][1].set_ylim((-1, 1))\n",
    "#     axes[0][1].arrow(0, 0, vector[0], vector[1], width=0.03, length_includes_head=True)\n",
    "    axes[0][1].clear()\n",
    "    axes[0][1].set_ylim((0, 1))\n",
    "    axes[0][1].get_yaxis().set_visible(False)\n",
    "    axes[0][1].bar([angle], 1, width=[2*angle_thresh], color='red')\n",
    "    find_mask()\n",
    "    \n",
    "def min_length_changed(change):\n",
    "    global min_length\n",
    "    min_length = change.new\n",
    "    find_mask()\n",
    "    \n",
    "def mask_size_changed(change):\n",
    "    global mask_size\n",
    "    mask_size = change.new\n",
    "    find_mask()\n",
    "    \n",
    "def hough_param_changed(_=None):\n",
    "    global hough_threshold, hough_min_line_length, hough_max_line_gap\n",
    "    hough_threshold = hough_thresh_slider.value\n",
    "    hough_min_line_length = hough_line_len_slider.value\n",
    "    hough_max_line_gap = hough_line_gap_slider.value\n",
    "    update_hough_lines()\n",
    "    \n",
    "# Show UI elements\n",
    "display(img_dropdown)\n",
    "display(edge_thresh_slider)\n",
    "display(hough_thresh_slider)\n",
    "display(hough_line_len_slider)\n",
    "display(hough_line_gap_slider)\n",
    "display(min_length_slider)\n",
    "display(angle_thresh_slider)\n",
    "display(mask_size_slider)\n",
    "display(vec_box)\n",
    "\n",
    "# Set widget callbacks\n",
    "img_dropdown.observe(img_changed, names='value')\n",
    "edge_thresh_slider.observe(edge_slider_cb, names='value')\n",
    "min_length_slider.observe(min_length_changed, names='value')\n",
    "angle_slider.observe(angle_changed, names='value')\n",
    "angle_thresh_slider.observe(angle_changed, names='value')\n",
    "mask_size_slider.observe(mask_size_changed, names='value')\n",
    "origin_x_box.observe(origin_changed, names='value')\n",
    "origin_y_box.observe(origin_changed, names='value')\n",
    "hough_thresh_slider.observe(hough_param_changed, names='value')\n",
    "hough_line_len_slider.observe(hough_param_changed, names='value')\n",
    "hough_line_gap_slider.observe(hough_param_changed, names='value')\n",
    "\n",
    "\n",
    "# Initialize values to sliders\n",
    "edge_threshold = edge_thresh_slider.value\n",
    "vec_origin = np.array([origin_x_box.value, origin_y_box.value])\n",
    "min_length = min_length_slider.value\n",
    "angle_thresh = angle_thresh_slider.value\n",
    "angle = angle_slider.value\n",
    "mask_size = mask_size_slider.value\n",
    "vec_origin = np.array([origin_x_box.value, origin_y_box.value])\n",
    "hough_threshold = hough_thresh_slider.value\n",
    "hough_min_line_length = hough_line_len_slider.value\n",
    "hough_max_line_gap = hough_line_gap_slider.value\n",
    "\n",
    "# Call once to initialize variables before call to imshow\n",
    "set_img(test_pic_names[0])\n",
    "fig = plt.figure(figsize=(8, 8))\n",
    "axes = [[None, None], [None, None]]\n",
    "axes[0][0] = plt.subplot(2, 2, 1)\n",
    "axes[0][1] = plt.subplot(2, 2, 2, polar=True)\n",
    "axes[1][0] = plt.subplot(2, 2, 3)\n",
    "axes[1][1] = plt.subplot(2, 2, 4)\n",
    "\n",
    "edge_img = axes[0][0].imshow(bw_img, 'gray')\n",
    "lines_img = axes[1][0].imshow(color_img[:,:,::-1])\n",
    "cropped_img = axes[1][1].imshow(color_img)\n",
    "# Output results with default values\n",
    "find_edges()\n",
    "angle_changed()"
   ]
  },
  {
   "cell_type": "code",
   "execution_count": 17,
   "metadata": {},
   "outputs": [
    {
     "data": {
      "text/plain": [
       "True"
      ]
     },
     "execution_count": 17,
     "metadata": {},
     "output_type": "execute_result"
    }
   ],
   "source": [
    "cv.imwrite('town_snaps2_0_cropped.png', cropped)"
   ]
  },
  {
   "cell_type": "code",
   "execution_count": 144,
   "metadata": {},
   "outputs": [
    {
     "data": {
      "text/plain": [
       "<matplotlib.image.AxesImage at 0x149713400>"
      ]
     },
     "execution_count": 144,
     "metadata": {},
     "output_type": "execute_result"
    }
   ],
   "source": [
    "plt.imshow(color_img[:,:,0], 'gray')"
   ]
  },
  {
   "cell_type": "code",
   "execution_count": null,
   "metadata": {},
   "outputs": [],
   "source": []
  }
 ],
 "metadata": {
  "kernelspec": {
   "display_name": "Python 3",
   "language": "python",
   "name": "python3"
  },
  "language_info": {
   "codemirror_mode": {
    "name": "ipython",
    "version": 3
   },
   "file_extension": ".py",
   "mimetype": "text/x-python",
   "name": "python",
   "nbconvert_exporter": "python",
   "pygments_lexer": "ipython3",
   "version": "3.6.3"
  }
 },
 "nbformat": 4,
 "nbformat_minor": 2
}
